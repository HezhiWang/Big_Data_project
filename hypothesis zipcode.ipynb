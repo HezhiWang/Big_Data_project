{
 "cells": [
  {
   "cell_type": "code",
   "execution_count": 223,
   "metadata": {
    "collapsed": true
   },
   "outputs": [],
   "source": [
    "import matplotlib.pyplot as plt\n",
    "from datetime import datetime\n",
    "import numpy as np\n",
    "import pandas as pd\n",
    "import os\n",
    "%matplotlib inline"
   ]
  },
  {
   "cell_type": "code",
   "execution_count": 224,
   "metadata": {
    "collapsed": false
   },
   "outputs": [],
   "source": [
    "path = os.getcwd()\n",
    "income = pd.read_csv(path + '/output/income.csv')\n",
    "population = pd.read_csv(path + '/output/population.csv')\n",
    "age_sex = pd.read_csv(path + '/output/age_sex.csv')\n",
    "zipcode = open(path + '/output/zipcode.out','r')"
   ]
  },
  {
   "cell_type": "code",
   "execution_count": 225,
   "metadata": {
    "collapsed": false
   },
   "outputs": [],
   "source": [
    "zipc = []\n",
    "complaints = []\n",
    "for line in zipcode.readlines():\n",
    "    zipc.append(line.split('\\t')[0].strip())\n",
    "    complaints.append(int(line.split('\\t')[1].strip()))\n",
    "    \n",
    "zipc = zipc[1:101]\n",
    "zipc = [int(x) for x in zipc]\n",
    "\n",
    "complaint = pd.DataFrame({'Zipcode': np.asarray(zipc), 'Complaints': np.asarray(complaints[1:101])}, index = np.arange(100))\n",
    "f1 = pd.merge(complaint, age_sex, how='left', on=['Zipcode'])\n",
    "f2 = pd.merge(f1, population, how='left', on=['Zipcode'])\n",
    "f3 = pd.merge(f2, income, how='left', on=['Zipcode'])\n",
    "f3['Median age'] = np.asarray([float(i) for i in f3['Median age']])\n",
    "f3['Sex ratio (males per 100 females)'] = np.asarray([float(i) for i in f3['Sex ratio (males per 100 females)']])\n",
    "f3['Mean income'] = np.asarray([float(i) for i in f3['Mean income']])"
   ]
  },
  {
   "cell_type": "code",
   "execution_count": 226,
   "metadata": {
    "collapsed": false
   },
   "outputs": [
    {
     "data": {
      "text/html": [
       "<div>\n",
       "<table border=\"1\" class=\"dataframe\">\n",
       "  <thead>\n",
       "    <tr style=\"text-align: right;\">\n",
       "      <th></th>\n",
       "      <th>Complaints</th>\n",
       "      <th>Zipcode</th>\n",
       "      <th>Median age</th>\n",
       "      <th>Sex ratio (males per 100 females)</th>\n",
       "      <th>Population</th>\n",
       "      <th>Mean income</th>\n",
       "    </tr>\n",
       "  </thead>\n",
       "  <tbody>\n",
       "    <tr>\n",
       "      <th>0</th>\n",
       "      <td>278416</td>\n",
       "      <td>11226</td>\n",
       "      <td>34.7</td>\n",
       "      <td>81.7</td>\n",
       "      <td>99026</td>\n",
       "      <td>58646.0</td>\n",
       "    </tr>\n",
       "    <tr>\n",
       "      <th>1</th>\n",
       "      <td>236724</td>\n",
       "      <td>10467</td>\n",
       "      <td>33.4</td>\n",
       "      <td>92.5</td>\n",
       "      <td>101134</td>\n",
       "      <td>46518.0</td>\n",
       "    </tr>\n",
       "    <tr>\n",
       "      <th>2</th>\n",
       "      <td>207677</td>\n",
       "      <td>10458</td>\n",
       "      <td>29.1</td>\n",
       "      <td>93.2</td>\n",
       "      <td>79974</td>\n",
       "      <td>41474.0</td>\n",
       "    </tr>\n",
       "    <tr>\n",
       "      <th>3</th>\n",
       "      <td>204803</td>\n",
       "      <td>11207</td>\n",
       "      <td>31.5</td>\n",
       "      <td>81.3</td>\n",
       "      <td>94657</td>\n",
       "      <td>47113.0</td>\n",
       "    </tr>\n",
       "    <tr>\n",
       "      <th>4</th>\n",
       "      <td>194782</td>\n",
       "      <td>10453</td>\n",
       "      <td>30.9</td>\n",
       "      <td>84.7</td>\n",
       "      <td>80081</td>\n",
       "      <td>33354.0</td>\n",
       "    </tr>\n",
       "  </tbody>\n",
       "</table>\n",
       "</div>"
      ],
      "text/plain": [
       "   Complaints  Zipcode  Median age  Sex ratio (males per 100 females)  \\\n",
       "0      278416    11226        34.7                               81.7   \n",
       "1      236724    10467        33.4                               92.5   \n",
       "2      207677    10458        29.1                               93.2   \n",
       "3      204803    11207        31.5                               81.3   \n",
       "4      194782    10453        30.9                               84.7   \n",
       "\n",
       "   Population  Mean income  \n",
       "0       99026      58646.0  \n",
       "1      101134      46518.0  \n",
       "2       79974      41474.0  \n",
       "3       94657      47113.0  \n",
       "4       80081      33354.0  "
      ]
     },
     "execution_count": 226,
     "metadata": {},
     "output_type": "execute_result"
    }
   ],
   "source": [
    "f3.head()"
   ]
  },
  {
   "cell_type": "code",
   "execution_count": 219,
   "metadata": {
    "collapsed": false
   },
   "outputs": [
    {
     "name": "stdout",
     "output_type": "stream",
     "text": [
      "Coefficients: \n",
      " [[ -2.96681086e+03  -7.34034185e+02   1.06010394e+00  -6.39268351e-02]]\n",
      "Mean squared error: 847112781.07\n",
      "Variance score: 0.52\n"
     ]
    }
   ],
   "source": [
    "from sklearn import linear_model\n",
    "\n",
    "y = f3['Complaints'].values.reshape(-1, 1)\n",
    "x = f3.drop(['Complaints', 'Zipcode'], axis = 1)\n",
    "\n",
    "regr = linear_model.LinearRegression()\n",
    "regr.fit(x, y)\n",
    "\n",
    "print('Coefficients: \\n', regr.coef_)\n",
    "print(\"Mean squared error: %.2f\"\n",
    "      % np.mean((regr.predict(x) - y) ** 2))\n",
    "print('Variance score: %.2f' % regr.score(x, y))"
   ]
  },
  {
   "cell_type": "code",
   "execution_count": 221,
   "metadata": {
    "collapsed": false
   },
   "outputs": [
    {
     "name": "stdout",
     "output_type": "stream",
     "text": [
      "                            OLS Regression Results                            \n",
      "==============================================================================\n",
      "Dep. Variable:                      y   R-squared:                       0.519\n",
      "Model:                            OLS   Adj. R-squared:                  0.499\n",
      "Method:                 Least Squares   F-statistic:                     25.67\n",
      "Date:                Thu, 27 Apr 2017   Prob (F-statistic):           1.97e-14\n",
      "Time:                        17:12:39   Log-Likelihood:                -1169.8\n",
      "No. Observations:                 100   AIC:                             2350.\n",
      "Df Residuals:                      95   BIC:                             2363.\n",
      "Df Model:                           4                                         \n",
      "Covariance Type:            nonrobust                                         \n",
      "==============================================================================\n",
      "                 coef    std err          t      P>|t|      [95.0% Conf. Int.]\n",
      "------------------------------------------------------------------------------\n",
      "const        2.24e+05   4.72e+04      4.747      0.000       1.3e+05  3.18e+05\n",
      "x1         -2966.8109    886.077     -3.348      0.001     -4725.896 -1207.726\n",
      "x2          -734.0342    345.505     -2.125      0.036     -1419.948   -48.121\n",
      "x3             1.0601      0.150      7.088      0.000         0.763     1.357\n",
      "x4            -0.0639      0.085     -0.752      0.454        -0.233     0.105\n",
      "==============================================================================\n",
      "Omnibus:                       17.709   Durbin-Watson:                   0.969\n",
      "Prob(Omnibus):                  0.000   Jarque-Bera (JB):               22.536\n",
      "Skew:                           0.904   Prob(JB):                     1.28e-05\n",
      "Kurtosis:                       4.464   Cond. No.                     1.70e+06\n",
      "==============================================================================\n",
      "\n",
      "Warnings:\n",
      "[1] Standard Errors assume that the covariance matrix of the errors is correctly specified.\n",
      "[2] The condition number is large, 1.7e+06. This might indicate that there are\n",
      "strong multicollinearity or other numerical problems.\n"
     ]
    }
   ],
   "source": [
    "import numpy as np\n",
    "import statsmodels.api as sm\n",
    "x = sm.add_constant(x)\n",
    "mod = sm.OLS(np.asarray(y), np.asarray(x))\n",
    "res = mod.fit()\n",
    "print(res.summary())"
   ]
  },
  {
   "cell_type": "code",
   "execution_count": 233,
   "metadata": {
    "collapsed": false
   },
   "outputs": [
    {
     "name": "stdout",
     "output_type": "stream",
     "text": [
      "Pearson’s correlation coefficient between Number of complaints and median age is -0.3672753968165259 and its 2-tailed p-value is 0.00017070893526015382\n",
      "\n",
      "Pearson’s correlation coefficient between Number of complaints and Sex ratio (males per 100 females) is -0.24491210967014826 and its 2-tailed p-value is 0.01405503561185422\n",
      "\n",
      "Pearson’s correlation coefficient between Number of complaints and Mean income is -0.43204457255750794 and its 2-tailed p-value is 7.173386191971467e-06\n",
      "\n",
      "Pearson’s correlation coefficient between Number of complaints and Population is 0.6399070773316233 and its 2-tailed p-value is 7.647217530369277e-13\n",
      "\n"
     ]
    }
   ],
   "source": [
    "from scipy.stats import pearsonr \n",
    "r, p = pearsonr(f3['Median age'], f3['Complaints'])\n",
    "print('Pearson’s correlation coefficient between Number of complaints and median age is {0} and its 2-tailed p-value is {1}'.format(r, p)+'\\n')\n",
    "r, p = pearsonr(f3['Sex ratio (males per 100 females)'], f3['Complaints'])\n",
    "print('Pearson’s correlation coefficient between Number of complaints and Sex ratio (males per 100 females) is {0} and its 2-tailed p-value is {1}'.format(r, p)+'\\n')\n",
    "r, p = pearsonr(f3['Mean income'], f3['Complaints'])\n",
    "print('Pearson’s correlation coefficient between Number of complaints and Mean income is {0} and its 2-tailed p-value is {1}'.format(r, p)+'\\n')\n",
    "r, p = pearsonr(f3['Population'], f3['Complaints'])\n",
    "print('Pearson’s correlation coefficient between Number of complaints and Population is {0} and its 2-tailed p-value is {1}'.format(r, p)+'\\n')"
   ]
  },
  {
   "cell_type": "code",
   "execution_count": null,
   "metadata": {
    "collapsed": true
   },
   "outputs": [],
   "source": []
  },
  {
   "cell_type": "code",
   "execution_count": 252,
   "metadata": {
    "collapsed": true
   },
   "outputs": [],
   "source": [
    "def f(p, s):\n",
    "    return 1000000*(4*p/s+1)*12 / s"
   ]
  },
  {
   "cell_type": "code",
   "execution_count": 253,
   "metadata": {
    "collapsed": false
   },
   "outputs": [],
   "source": [
    "s = 200000000\n",
    "p = 400000000"
   ]
  },
  {
   "cell_type": "code",
   "execution_count": 254,
   "metadata": {
    "collapsed": false
   },
   "outputs": [
    {
     "data": {
      "text/plain": [
       "0.54"
      ]
     },
     "execution_count": 254,
     "metadata": {},
     "output_type": "execute_result"
    }
   ],
   "source": [
    "f(p, s)"
   ]
  },
  {
   "cell_type": "code",
   "execution_count": 255,
   "metadata": {
    "collapsed": true
   },
   "outputs": [],
   "source": [
    "s = 500000000\n",
    "p = 1000000000"
   ]
  },
  {
   "cell_type": "code",
   "execution_count": 256,
   "metadata": {
    "collapsed": false
   },
   "outputs": [
    {
     "data": {
      "text/plain": [
       "0.216"
      ]
     },
     "execution_count": 256,
     "metadata": {},
     "output_type": "execute_result"
    }
   ],
   "source": [
    "f(p,s)"
   ]
  },
  {
   "cell_type": "code",
   "execution_count": 257,
   "metadata": {
    "collapsed": true
   },
   "outputs": [],
   "source": [
    "s = 300000000\n",
    "p = 1800000000"
   ]
  },
  {
   "cell_type": "code",
   "execution_count": 258,
   "metadata": {
    "collapsed": false
   },
   "outputs": [
    {
     "data": {
      "text/plain": [
       "1.0"
      ]
     },
     "execution_count": 258,
     "metadata": {},
     "output_type": "execute_result"
    }
   ],
   "source": [
    "f(p, s)"
   ]
  },
  {
   "cell_type": "code",
   "execution_count": 259,
   "metadata": {
    "collapsed": true
   },
   "outputs": [],
   "source": [
    "s = 200000000\n",
    "p = 1600000000"
   ]
  },
  {
   "cell_type": "code",
   "execution_count": 260,
   "metadata": {
    "collapsed": false
   },
   "outputs": [
    {
     "data": {
      "text/plain": [
       "1.98"
      ]
     },
     "execution_count": 260,
     "metadata": {},
     "output_type": "execute_result"
    }
   ],
   "source": [
    "f(p,s)"
   ]
  },
  {
   "cell_type": "code",
   "execution_count": 261,
   "metadata": {
    "collapsed": true
   },
   "outputs": [],
   "source": [
    "s = 200000000\n",
    "p = 800000000"
   ]
  },
  {
   "cell_type": "code",
   "execution_count": 270,
   "metadata": {
    "collapsed": false
   },
   "outputs": [
    {
     "data": {
      "text/plain": [
       "1.02"
      ]
     },
     "execution_count": 270,
     "metadata": {},
     "output_type": "execute_result"
    }
   ],
   "source": [
    "f(p, s)"
   ]
  },
  {
   "cell_type": "code",
   "execution_count": 272,
   "metadata": {
    "collapsed": false
   },
   "outputs": [
    {
     "name": "stdout",
     "output_type": "stream",
     "text": [
      "0.44\n",
      "0.696\n",
      "1.08\n",
      "1.9066666666666667\n"
     ]
    }
   ],
   "source": [
    "S = 300000000\n",
    "P = 750000000\n",
    "print(f(P, S))\n",
    "S = 100000000\n",
    "P = 120000000\n",
    "print(f(P, S))\n",
    "S = 100000000\n",
    "P = 200000000\n",
    "print(f(P, S))\n",
    "S = 300000000\n",
    "P = 3500000000\n",
    "print(f(P, S))"
   ]
  },
  {
   "cell_type": "code",
   "execution_count": null,
   "metadata": {
    "collapsed": true
   },
   "outputs": [],
   "source": []
  },
  {
   "cell_type": "code",
   "execution_count": null,
   "metadata": {
    "collapsed": true
   },
   "outputs": [],
   "source": []
  },
  {
   "cell_type": "code",
   "execution_count": 271,
   "metadata": {
    "collapsed": true
   },
   "outputs": [],
   "source": [
    "def f1(p, i):\n",
    "    return 20 * p < 2 * i ** 2"
   ]
  },
  {
   "cell_type": "code",
   "execution_count": 269,
   "metadata": {
    "collapsed": false
   },
   "outputs": [
    {
     "name": "stdout",
     "output_type": "stream",
     "text": [
      "False\n",
      "True\n",
      "False\n",
      "False\n",
      "False\n",
      "False\n",
      "True\n",
      "False\n"
     ]
    }
   ],
   "source": [
    "I = 50000\n",
    "P = 3000000000\n",
    "print(f1(P, I))\n",
    "I = 100000\n",
    "P = 900000000\n",
    "print(f1(P, I))\n",
    "I = 1000\n",
    "P = 120000\n",
    "print(f1(P, I))\n",
    "I = 5000\n",
    "P = 3000000\n",
    "print(f1(P, I))\n",
    "\n",
    "\n",
    "I = 1000000\n",
    "P = 120000000000\n",
    "print(f1(P, I))\n",
    "I = 2000 \n",
    "P = 500000\n",
    "print(f1(P, I))\n",
    "I = 500000\n",
    "P = 20000000000\n",
    "print(f1(P, I))\n",
    "I = 10000 \n",
    "P = 12000000\n",
    "print(f1(P, I))"
   ]
  },
  {
   "cell_type": "code",
   "execution_count": 275,
   "metadata": {
    "collapsed": true
   },
   "outputs": [],
   "source": [
    "def f2(n, m, s):\n",
    "    if n**2/2 < 3*m:\n",
    "        return n**2/2 * 4 / s\n",
    "    else:\n",
    "        return m * 4 / s"
   ]
  },
  {
   "cell_type": "code",
   "execution_count": 276,
   "metadata": {
    "collapsed": false
   },
   "outputs": [
    {
     "name": "stdout",
     "output_type": "stream",
     "text": [
      "1.0\n",
      "0.2\n",
      "0.075\n",
      "0.2\n"
     ]
    }
   ],
   "source": [
    "N = 10000\n",
    "M = 40000000\n",
    "S = 200000000\n",
    "print(f2(N, M, S))\n",
    "N = 50000 \n",
    "M = 40000000\n",
    "S = 800000000\n",
    "print(f2(N, M, S))\n",
    "N = 40000\n",
    "M = 60000000\n",
    "S = 3200000000\n",
    "print(f2(N, M, S))\n",
    "N = 100000 \n",
    "M = 40000000\n",
    "S = 800000000\n",
    "print(f2(N, M, S))"
   ]
  },
  {
   "cell_type": "code",
   "execution_count": 277,
   "metadata": {
    "collapsed": false
   },
   "outputs": [
    {
     "name": "stdout",
     "output_type": "stream",
     "text": [
      "1.0\n",
      "0.21333333333333335\n",
      "0.1111111111111111\n",
      "0.2\n"
     ]
    }
   ],
   "source": [
    "N = 30000\n",
    "M = 200000000\n",
    "S = 1800000000\n",
    "print(f2(N, M, S))\n",
    "N = 50000\n",
    "M = 80000000\n",
    "S = 1500000000\n",
    "print(f2(N, M, S))\n",
    "N = 60000\n",
    "M = 200000000\n",
    "S = 7200000000\n",
    "print(f2(N, M, S))\n",
    "N = 100000\n",
    "M = 40000000\n",
    "S = 800000000\n",
    "print(f2(N, M, S))"
   ]
  },
  {
   "cell_type": "code",
   "execution_count": 267,
   "metadata": {
    "collapsed": true
   },
   "outputs": [],
   "source": [
    "def f3(s, p, n):\n",
    "    a = 1000000 * (4*p/s+1)\n",
    "    return 1000000 * (a*4/s+1) / n"
   ]
  },
  {
   "cell_type": "code",
   "execution_count": 268,
   "metadata": {
    "collapsed": false
   },
   "outputs": [
    {
     "name": "stdout",
     "output_type": "stream",
     "text": [
      "4.124999999999999\n",
      "1.4764705882352942\n",
      "0.9962264150943394\n",
      "44.74074074074074\n"
     ]
    }
   ],
   "source": [
    "S = 100000000\n",
    "P = 1000000000\n",
    "N =640000\n",
    "print(f3(S, P, N))\n",
    "S = 200000000\n",
    "P = 10000000000\n",
    "N = 3400000\n",
    "print(f2(S, P, N))\n",
    "S = 100000000 \n",
    "P = 1000000000\n",
    "N = 2650000\n",
    "print(f2(S, P, N))\n",
    "S = 300000000\n",
    "P = 100000000000 \n",
    "N = 420000\n",
    "print(f2(S, P, N))"
   ]
  },
  {
   "cell_type": "code",
   "execution_count": 273,
   "metadata": {
    "collapsed": false
   },
   "outputs": [
    {
     "name": "stdout",
     "output_type": "stream",
     "text": [
      "0.972\n",
      "1.328\n",
      "0.12647619047619046\n",
      "10.04\n"
     ]
    }
   ],
   "source": [
    "S = 400000000;\n",
    "P = 160000000000;\n",
    "N = 17500000\n",
    "print(f2(S, P, N))\n",
    "S = 500000000\n",
    "P = 5000000000\n",
    "N = 1000000\n",
    "print(f2(S, P, N))\n",
    "S = 500000000\n",
    "P = 5000000000\n",
    "N = 10500000\n",
    "print(f2(S, P, N))\n",
    "S = 200000000\n",
    "P = 10000000000\n",
    "N = 500000\n",
    "print(f2(S, P, N))"
   ]
  },
  {
   "cell_type": "code",
   "execution_count": 278,
   "metadata": {
    "collapsed": false
   },
   "outputs": [
    {
     "data": {
      "text/plain": [
       "1.0961538461538463"
      ]
     },
     "execution_count": 278,
     "metadata": {},
     "output_type": "execute_result"
    }
   ],
   "source": [
    "38*3/13/8"
   ]
  },
  {
   "cell_type": "code",
   "execution_count": null,
   "metadata": {
    "collapsed": true
   },
   "outputs": [],
   "source": []
  }
 ],
 "metadata": {
  "kernelspec": {
   "display_name": "Python 3",
   "language": "python",
   "name": "python3"
  },
  "language_info": {
   "codemirror_mode": {
    "name": "ipython",
    "version": 3
   },
   "file_extension": ".py",
   "mimetype": "text/x-python",
   "name": "python",
   "nbconvert_exporter": "python",
   "pygments_lexer": "ipython3",
   "version": "3.6.0"
  }
 },
 "nbformat": 4,
 "nbformat_minor": 2
}
